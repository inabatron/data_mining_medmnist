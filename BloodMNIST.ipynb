{
  "cells": [
    {
      "cell_type": "code",
      "execution_count": null,
      "metadata": {
        "id": "HAHBgu0gy2uN"
      },
      "outputs": [],
      "source": [
        "! pip install medmnist"
      ]
    },
    {
      "cell_type": "code",
      "execution_count": 8,
      "metadata": {
        "id": "AfKOceQui5MG"
      },
      "outputs": [],
      "source": [
        "import medmnist\n",
        "from torchvision import transforms\n",
        "from torch.utils.data import DataLoader\n",
        "import torch\n",
        "import torch.nn as nn\n",
        "import torch.optim as optim\n",
        "import torchvision.models as models\n",
        "import matplotlib.pyplot as plt"
      ]
    },
    {
      "cell_type": "markdown",
      "metadata": {
        "id": "gvJW0e3A2eze"
      },
      "source": [
        "First of all, we need to load the data and preprocess it. BloodMNIST has already three splits: train, val, test. Also, we will use the ImageNet statistics for normalization."
      ]
    },
    {
      "cell_type": "code",
      "execution_count": 4,
      "metadata": {
        "colab": {
          "base_uri": "https://localhost:8080/"
        },
        "id": "R4Vql3IJyzIa",
        "outputId": "0ab13d71-aa20-4886-995c-4c51256d5ce4"
      },
      "outputs": [
        {
          "name": "stderr",
          "output_type": "stream",
          "text": [
            "100%|██████████| 35.5M/35.5M [00:03<00:00, 10.1MB/s]\n"
          ]
        }
      ],
      "source": [
        "data_transform = transforms.Compose([\n",
        "    transforms.Resize(32),\n",
        "    transforms.ToTensor(),\n",
        "    transforms.Normalize(mean=[0.485, 0.456, 0.406], std=[0.229, 0.224, 0.225])  # from ImageNet\n",
        "])\n",
        "\n",
        "train_dataset = medmnist.BloodMNIST(split='train', transform=data_transform, download=True)\n",
        "test_dataset = medmnist.BloodMNIST(split='test', transform=data_transform, download=True)\n",
        "val_dataset = medmnist.BloodMNIST(split='val', transform=data_transform, download=True)\n",
        "\n",
        "train_loader = DataLoader(train_dataset, batch_size=32, shuffle=True)\n",
        "test_loader = DataLoader(test_dataset, batch_size=32, shuffle=False)\n",
        "val_loader = DataLoader(val_dataset, batch_size=32, shuffle=False)"
      ]
    },
    {
      "cell_type": "code",
      "execution_count": null,
      "metadata": {
        "colab": {
          "base_uri": "https://localhost:8080/"
        },
        "id": "Ave75BBS2pX9",
        "outputId": "d9893205-a571-4ee3-f1f7-0aee1119785d"
      },
      "outputs": [
        {
          "name": "stdout",
          "output_type": "stream",
          "text": [
            "Train dataset size: 11959\n",
            "Test dataset size: 3421\n",
            "Validation dataset size: 1712\n",
            "Batch shape: torch.Size([32, 3, 32, 32])\n",
            "Labels shape: torch.Size([32, 1])\n"
          ]
        }
      ],
      "source": [
        "print(f'Train dataset size: {len(train_dataset)}')\n",
        "print(f'Test dataset size: {len(test_dataset)}')\n",
        "print(f'Validation dataset size: {len(val_dataset)}')\n",
        "\n",
        "images, labels = next(iter(train_loader))\n",
        "print(f'Batch shape: {images.shape}')\n",
        "print(f'Labels shape: {labels.shape}')"
      ]
    },
    {
      "cell_type": "code",
      "execution_count": null,
      "metadata": {
        "colab": {
          "base_uri": "https://localhost:8080/",
          "height": 280
        },
        "id": "TgDyTYWp2q3T",
        "outputId": "eeca60f2-dd49-4474-a8a9-58f4ac10f8b9"
      },
      "outputs": [
        {
          "data": {
            "image/png": "[encoded data removed]",
            "text/plain": [
              "<Figure size 1200x400 with 5 Axes>"
            ]
          },
          "metadata": {},
          "output_type": "display_data"
        }
      ],
      "source": [
        "def denormalize_image(image):\n",
        "    mean = torch.tensor([0.485, 0.456, 0.406]).view(3, 1, 1)\n",
        "    std = torch.tensor([0.229, 0.224, 0.225]).view(3, 1, 1)\n",
        "    return image * std + mean\n",
        "\n",
        "plt.figure(figsize=(12, 4))\n",
        "for i in range(5):\n",
        "    plt.subplot(1, 5, i+1)\n",
        "    img = denormalize_image(images[i])\n",
        "    img = img.permute(1, 2, 0).numpy()\n",
        "    plt.imshow(img)\n",
        "    plt.title(f'Class: {labels[i].item()}')\n",
        "    plt.axis('off')\n",
        "plt.tight_layout()\n",
        "plt.show()"
      ]
    },
    {
      "cell_type": "markdown",
      "metadata": {
        "id": "NUx_TqO-8Tx6"
      },
      "source": [
        "### Baseline Model"
      ]
    },
    {
      "cell_type": "code",
      "execution_count": null,
      "metadata": {
        "id": "xK84jo8ukl6v"
      },
      "outputs": [],
      "source": [
        "def train(model, loader, criterion, optimizer, device):\n",
        "    model.train()\n",
        "    total_loss, correct = 0, 0\n",
        "    for images, labels in loader:\n",
        "        images, labels = images.to(device), labels.squeeze().to(device)\n",
        "        outputs = model(images)\n",
        "        loss = criterion(outputs, labels)\n",
        "\n",
        "        optimizer.zero_grad()\n",
        "        loss.backward()\n",
        "        optimizer.step()\n",
        "\n",
        "        total_loss += loss.item()\n",
        "        correct += (outputs.argmax(1) == labels).sum().item()\n",
        "    return total_loss / len(loader), correct / len(loader.dataset)\n",
        "\n",
        "def evaluate(model, loader, criterion, device):\n",
        "    model.eval()\n",
        "    total_loss, correct = 0, 0\n",
        "    with torch.no_grad():\n",
        "        for images, labels in loader:\n",
        "            images, labels = images.to(device), labels.squeeze().to(device)\n",
        "            outputs = model(images)\n",
        "            loss = criterion(outputs, labels)\n",
        "\n",
        "            total_loss += loss.item()\n",
        "            correct += (outputs.argmax(1) == labels).sum().item()\n",
        "    return total_loss / len(loader), correct / len(loader.dataset)\n"
      ]
    },
    {
      "cell_type": "markdown",
      "metadata": {
        "id": "xiuKg8mk2gTV"
      },
      "source": [
        "Let's load the pre-trained ResNet-18 model and replace the final fully connected layer with a new one for our task. BloodMNIST has 8 classes, so we need to change the last layer to have 8 output neurons."
      ]
    },
    {
      "cell_type": "code",
      "execution_count": null,
      "metadata": {
        "id": "I9gZCDRglPU6"
      },
      "outputs": [],
      "source": [
        "def get_resnet18(num_classes=8):\n",
        "    model = models.resnet18(pretrained=True)\n",
        "    model.conv1 = nn.Conv2d(3, 64, kernel_size=3, stride=1, padding=1, bias=False)\n",
        "    model.maxpool = nn.Identity()  # Remove aggressive downsampling\n",
        "    model.fc = nn.Linear(model.fc.in_features, num_classes)\n",
        "    return model"
      ]
    },
    {
      "cell_type": "markdown",
      "metadata": {
        "id": "2LIFmQ7A2l6s"
      },
      "source": [
        "Let's define the loss function and optimizer. We will use the Adam optimizer with a learning rate of 0.001, since it has a good balance between convergence speed and stability. For the loss function, we will use the cross-entropy loss, since it is a good loss function for classification tasks."
      ]
    },
    {
      "cell_type": "code",
      "execution_count": null,
      "metadata": {
        "id": "HPnBcjoz2J6N"
      },
      "outputs": [],
      "source": [
        "device = torch.device(\"cuda\" if torch.cuda.is_available() else \"cpu\")\n",
        "num_classes = 8\n",
        "\n",
        "model = get_resnet18(num_classes).to(device)\n",
        "\n",
        "criterion = nn.CrossEntropyLoss()\n",
        "train_optimizer = optim.Adam(model.parameters(), lr=1e-3)"
      ]
    },
    {
      "cell_type": "code",
      "execution_count": null,
      "metadata": {
        "colab": {
          "base_uri": "https://localhost:8080/"
        },
        "id": "hmdzm7U_lJT2",
        "outputId": "1bf06a3d-8200-41d5-b944-6c5dc700eb8c"
      },
      "outputs": [
        {
          "name": "stdout",
          "output_type": "stream",
          "text": [
            "Epoch 1: Train acc: 0.8986, Val acc: 0.9229\n",
            "Epoch 2: Train acc: 0.9187, Val acc: 0.9334\n",
            "Epoch 3: Train acc: 0.9319, Val acc: 0.9287\n",
            "Epoch 4: Train acc: 0.9424, Val acc: 0.9387\n",
            "Epoch 5: Train acc: 0.9523, Val acc: 0.9322\n",
            "Epoch 6: Train acc: 0.9568, Val acc: 0.9317\n",
            "Epoch 7: Train acc: 0.9647, Val acc: 0.9410\n",
            "Epoch 8: Train acc: 0.9715, Val acc: 0.9357\n",
            "Epoch 9: Train acc: 0.9745, Val acc: 0.9322\n",
            "Epoch 10: Train acc: 0.9788, Val acc: 0.9463\n",
            "Epoch 11: Train acc: 0.9747, Val acc: 0.9509\n",
            "Epoch 12: Train acc: 0.9833, Val acc: 0.9521\n",
            "Epoch 13: Train acc: 0.9814, Val acc: 0.9509\n",
            "Epoch 14: Train acc: 0.9849, Val acc: 0.9322\n",
            "Epoch 15: Train acc: 0.9832, Val acc: 0.9439\n",
            "Epoch 16: Train acc: 0.9880, Val acc: 0.9480\n",
            "Epoch 17: Train acc: 0.9891, Val acc: 0.9539\n",
            "Epoch 18: Train acc: 0.9883, Val acc: 0.9410\n",
            "Epoch 19: Train acc: 0.9951, Val acc: 0.9492\n",
            "Epoch 20: Train acc: 0.9887, Val acc: 0.9428\n"
          ]
        }
      ],
      "source": [
        "epochs = 20\n",
        "for epoch in range(epochs):\n",
        "    train_loss, train_acc = train(model, train_loader, criterion, train_optimizer, device)\n",
        "    val_loss, val_acc = evaluate(model, val_loader, criterion, device)\n",
        "    print(f\"Epoch {epoch+1}: Train acc: {train_acc:.4f}, Val acc: {val_acc:.4f}\")"
      ]
    },
    {
      "cell_type": "code",
      "execution_count": null,
      "metadata": {
        "colab": {
          "base_uri": "https://localhost:8080/"
        },
        "id": "ACDoLcmglQDG",
        "outputId": "038435ea-46c9-4b0c-cedd-0e610272cdd9"
      },
      "outputs": [
        {
          "name": "stdout",
          "output_type": "stream",
          "text": [
            "Test Accuracy: 0.9298\n"
          ]
        }
      ],
      "source": [
        "test_loss, test_acc = evaluate(model, test_loader, criterion, device)\n",
        "print(f\"Test Accuracy: {test_acc:.4f}\")"
      ]
    },
    {
      "cell_type": "markdown",
      "metadata": {
        "id": "iiUwxS4n4N_b"
      },
      "source": [
        "Now, lets also compute AUC."
      ]
    },
    {
      "cell_type": "code",
      "execution_count": null,
      "metadata": {
        "id": "ZCA-CNykuSqm"
      },
      "outputs": [],
      "source": [
        "from sklearn.metrics import roc_auc_score\n",
        "from sklearn.preprocessing import label_binarize\n",
        "import numpy as np\n",
        "\n",
        "def compute_auc_score_safe(y_probs, y_true, all_classes):\n",
        "    present_classes = np.unique(y_true)\n",
        "\n",
        "    if len(present_classes) < 2:\n",
        "        print(\"Not enough classes in test labels to compute AUC.\")\n",
        "        return np.nan\n",
        "\n",
        "    y_true_bin = label_binarize(y_true, classes=all_classes)\n",
        "    probs_filtered = y_probs[:, present_classes]\n",
        "\n",
        "    try:\n",
        "        auc = roc_auc_score(y_true_bin[:, present_classes], probs_filtered, average='macro', multi_class='ovr')\n",
        "        return auc\n",
        "    except Exception as e:\n",
        "        print(f\"Error computing AUC: {e}\")\n",
        "        return np.nan\n",
        "\n",
        "def get_predictions_and_labels(model, loader, device):\n",
        "    model.eval()\n",
        "    all_probs = []\n",
        "    all_labels = []\n",
        "\n",
        "    with torch.no_grad():\n",
        "        for images, labels in loader:\n",
        "            images = images.to(device)\n",
        "            outputs = model(images)\n",
        "            probs = torch.softmax(outputs, dim=1)\n",
        "            all_probs.extend(probs.cpu().numpy())\n",
        "            all_labels.extend(labels.squeeze().cpu().numpy())\n",
        "\n",
        "    return np.array(all_probs), np.array(all_labels)"
      ]
    },
    {
      "cell_type": "code",
      "execution_count": null,
      "metadata": {
        "colab": {
          "base_uri": "https://localhost:8080/"
        },
        "id": "rh99KsnwuZPx",
        "outputId": "0e92ecfa-2500-40f1-bac2-f1d1f6acc937"
      },
      "outputs": [
        {
          "name": "stdout",
          "output_type": "stream",
          "text": [
            "Test AUC: 0.9955\n"
          ]
        }
      ],
      "source": [
        "y_probs, y_true = get_predictions_and_labels(model, test_loader, device)\n",
        "all_classes = list(range(num_classes))\n",
        "\n",
        "auc_score = compute_auc_score_safe(y_probs, y_true, all_classes)\n",
        "print(f\"Test AUC: {auc_score:.4f}\")\n"
      ]
    },
    {
      "cell_type": "markdown",
      "metadata": {
        "id": "RDg_KYcJ8Tx9"
      },
      "source": [
        "### Target Model"
      ]
    },
    {
      "cell_type": "code",
      "execution_count": null,
      "metadata": {
        "id": "lnlsVUhh8Tx9"
      },
      "outputs": [],
      "source": [
        "! pip install transformers datasets evaluate"
      ]
    },
    {
      "cell_type": "code",
      "execution_count": 56,
      "metadata": {
        "id": "qKY6oxyL8Tx9"
      },
      "outputs": [],
      "source": [
        "from transformers import ViTImageProcessor, ViTForImageClassification, TrainingArguments, Trainer\n",
        "from tqdm import tqdm\n",
        "from datasets import load_dataset\n",
        "from evaluate import load\n",
        "import torch\n",
        "import numpy as np"
      ]
    },
    {
      "cell_type": "markdown",
      "metadata": {
        "id": "U_ckndYMDN8K"
      },
      "source": [
        "Lets load the data using hugging face load_dataset function for better compatability."
      ]
    },
    {
      "cell_type": "code",
      "execution_count": 63,
      "metadata": {
        "id": "6_2hgoXpzGyQ"
      },
      "outputs": [],
      "source": [
        "bloodMNIST_dataset = load_dataset(\"albertvillanova/medmnist-v2\", \"bloodmnist\")"
      ]
    },
    {
      "cell_type": "markdown",
      "metadata": {
        "id": "j4YkTGOhDVxo"
      },
      "source": [
        "Lets use pretrained Google vit-base-patch16-224 model architecture. Then lets train it on our BloodMNIST dataset using the idea from here https://huggingface.co/blog/fine-tune-vit "
      ]
    },
    {
      "cell_type": "code",
      "execution_count": 64,
      "metadata": {
        "id": "AV_zn8NfDDuP"
      },
      "outputs": [],
      "source": [
        "model_name = \"google/vit-base-patch16-224\"\n",
        "\n",
        "processor = ViTImageProcessor.from_pretrained(model_name)"
      ]
    },
    {
      "cell_type": "code",
      "execution_count": 65,
      "metadata": {
        "id": "K4nZis98_Z0D"
      },
      "outputs": [],
      "source": [
        "def transform(i):\n",
        "  inputs = processor([img.convert(\"RGB\") for img in i[\"image\"]], return_tensors=\"pt\")\n",
        "  inputs[\"labels\"] = i[\"label\"]\n",
        "  return inputs\n",
        "\n",
        "bloodMNIST_loader = bloodMNIST_dataset.with_transform(transform)"
      ]
    },
    {
      "cell_type": "code",
      "execution_count": 66,
      "metadata": {
        "id": "y59lrlfhChYl"
      },
      "outputs": [],
      "source": [
        "metric = load(\"accuracy\")\n",
        "def compute_metrics(p):\n",
        "    return metric.compute(predictions=np.argmax(p.predictions, axis=1), references=p.label_ids)\n",
        "\n",
        "def collate_fn(batch):\n",
        "    return {\n",
        "        'pixel_values': torch.stack([x['pixel_values'] for x in batch]),\n",
        "        'labels': torch.tensor([x['labels'] for x in batch])\n",
        "    }"
      ]
    },
    {
      "cell_type": "code",
      "execution_count": 68,
      "metadata": {
        "colab": {
          "base_uri": "https://localhost:8080/"
        },
        "id": "SDNLDrg1_uxb",
        "outputId": "716708b6-54db-43e4-a8d8-1cf3de1a4cb0"
      },
      "outputs": [
        {
          "name": "stderr",
          "output_type": "stream",
          "text": [
            "Some weights of ViTForImageClassification were not initialized from the model checkpoint at google/vit-base-patch16-224 and are newly initialized because the shapes did not match:\n",
            "- classifier.bias: found shape torch.Size([1000]) in the checkpoint and torch.Size([8]) in the model instantiated\n",
            "- classifier.weight: found shape torch.Size([1000, 768]) in the checkpoint and torch.Size([8, 768]) in the model instantiated\n",
            "You should probably TRAIN this model on a down-stream task to be able to use it for predictions and inference.\n",
            "/usr/local/lib/python3.11/dist-packages/transformers/training_args.py:1611: FutureWarning: `evaluation_strategy` is deprecated and will be removed in version 4.46 of 🤗 Transformers. Use `eval_strategy` instead\n",
            "  warnings.warn(\n",
            "<ipython-input-68-d5dd4d85b569>:26: FutureWarning: `tokenizer` is deprecated and will be removed in version 5.0.0 for `Trainer.__init__`. Use `processing_class` instead.\n",
            "  trainer = Trainer(\n"
          ]
        }
      ],
      "source": [
        "model = ViTForImageClassification.from_pretrained(\n",
        "    model_name,\n",
        "    num_labels=len(bloodMNIST_loader[\"train\"].features[\"label\"].names),\n",
        "    id2label={str(i): c for i, c in enumerate(labels)},\n",
        "    label2id={c: str(i) for i, c in enumerate(labels)},\n",
        "    ignore_mismatched_sizes=True,\n",
        ")\n",
        "\n",
        "training_args = TrainingArguments(\n",
        "  output_dir=\"./output\",\n",
        "  per_device_train_batch_size=32,\n",
        "  evaluation_strategy=\"steps\",\n",
        "  num_train_epochs=10,\n",
        "  fp16=True,\n",
        "  save_steps=100,\n",
        "  eval_steps=100,\n",
        "  logging_steps=100,\n",
        "  learning_rate=2e-4,\n",
        "  save_total_limit=5,\n",
        "  remove_unused_columns=False,\n",
        "  push_to_hub=False,\n",
        "  report_to='tensorboard',\n",
        "  load_best_model_at_end=True,\n",
        ")\n",
        "\n",
        "trainer = Trainer(\n",
        "    model=model,\n",
        "    args=training_args,\n",
        "    data_collator=collate_fn,\n",
        "    compute_metrics=compute_metrics,\n",
        "    train_dataset=bloodMNIST_loader[\"train\"],\n",
        "    eval_dataset=bloodMNIST_loader[\"validation\"],\n",
        "    tokenizer=processor,\n",
        ")"
      ]
    },
    {
      "cell_type": "markdown",
      "metadata": {},
      "source": [
        "Now, lets train the model."
      ]
    },
    {
      "cell_type": "code",
      "execution_count": 69,
      "metadata": {
        "colab": {
          "base_uri": "https://localhost:8080/",
          "height": 1000
        },
        "id": "Yiq2tyiv0CAC",
        "outputId": "a8c52d50-036a-4c35-8ce9-4c237878e0bd"
      },
      "outputs": [
        {
          "data": {
            "text/html": [
              "\n",
              "    <div>\n",
              "      \n",
              "      <progress value='3740' max='3740' style='width:300px; height:20px; vertical-align: middle;'></progress>\n",
              "      [3740/3740 30:23, Epoch 10/10]\n",
              "    </div>\n",
              "    <table border=\"1\" class=\"dataframe\">\n",
              "  <thead>\n",
              " <tr style=\"text-align: left;\">\n",
              "      <th>Step</th>\n",
              "      <th>Training Loss</th>\n",
              "      <th>Validation Loss</th>\n",
              "      <th>Accuracy</th>\n",
              "    </tr>\n",
              "  </thead>\n",
              "  <tbody>\n",
              "    <tr>\n",
              "      <td>100</td>\n",
              "      <td>0.586200</td>\n",
              "      <td>0.335956</td>\n",
              "      <td>0.894276</td>\n",
              "    </tr>\n",
              "    <tr>\n",
              "      <td>200</td>\n",
              "      <td>0.278100</td>\n",
              "      <td>0.319939</td>\n",
              "      <td>0.887266</td>\n",
              "    </tr>\n",
              "    <tr>\n",
              "      <td>300</td>\n",
              "      <td>0.240400</td>\n",
              "      <td>0.148517</td>\n",
              "      <td>0.946846</td>\n",
              "    </tr>\n",
              "    <tr>\n",
              "      <td>400</td>\n",
              "      <td>0.166100</td>\n",
              "      <td>0.141100</td>\n",
              "      <td>0.951519</td>\n",
              "    </tr>\n",
              "    <tr>\n",
              "      <td>500</td>\n",
              "      <td>0.153400</td>\n",
              "      <td>0.228006</td>\n",
              "      <td>0.925818</td>\n",
              "    </tr>\n",
              "    <tr>\n",
              "      <td>600</td>\n",
              "      <td>0.193300</td>\n",
              "      <td>0.116890</td>\n",
              "      <td>0.957944</td>\n",
              "    </tr>\n",
              "    <tr>\n",
              "      <td>700</td>\n",
              "      <td>0.129700</td>\n",
              "      <td>0.163514</td>\n",
              "      <td>0.945678</td>\n",
              "    </tr>\n",
              "    <tr>\n",
              "      <td>800</td>\n",
              "      <td>0.094100</td>\n",
              "      <td>0.207862</td>\n",
              "      <td>0.935748</td>\n",
              "    </tr>\n",
              "    <tr>\n",
              "      <td>900</td>\n",
              "      <td>0.094400</td>\n",
              "      <td>0.105193</td>\n",
              "      <td>0.966706</td>\n",
              "    </tr>\n",
              "    <tr>\n",
              "      <td>1000</td>\n",
              "      <td>0.094000</td>\n",
              "      <td>0.184383</td>\n",
              "      <td>0.935748</td>\n",
              "    </tr>\n",
              "    <tr>\n",
              "      <td>1100</td>\n",
              "      <td>0.065000</td>\n",
              "      <td>0.133229</td>\n",
              "      <td>0.957944</td>\n",
              "    </tr>\n",
              "    <tr>\n",
              "      <td>1200</td>\n",
              "      <td>0.080500</td>\n",
              "      <td>0.104249</td>\n",
              "      <td>0.966706</td>\n",
              "    </tr>\n",
              "    <tr>\n",
              "      <td>1300</td>\n",
              "      <td>0.057600</td>\n",
              "      <td>0.140774</td>\n",
              "      <td>0.954439</td>\n",
              "    </tr>\n",
              "    <tr>\n",
              "      <td>1400</td>\n",
              "      <td>0.042300</td>\n",
              "      <td>0.140954</td>\n",
              "      <td>0.963785</td>\n",
              "    </tr>\n",
              "    <tr>\n",
              "      <td>1500</td>\n",
              "      <td>0.047300</td>\n",
              "      <td>0.121546</td>\n",
              "      <td>0.964953</td>\n",
              "    </tr>\n",
              "    <tr>\n",
              "      <td>1600</td>\n",
              "      <td>0.027100</td>\n",
              "      <td>0.144397</td>\n",
              "      <td>0.962033</td>\n",
              "    </tr>\n",
              "    <tr>\n",
              "      <td>1700</td>\n",
              "      <td>0.029900</td>\n",
              "      <td>0.117288</td>\n",
              "      <td>0.969042</td>\n",
              "    </tr>\n",
              "    <tr>\n",
              "      <td>1800</td>\n",
              "      <td>0.022600</td>\n",
              "      <td>0.168713</td>\n",
              "      <td>0.961449</td>\n",
              "    </tr>\n",
              "    <tr>\n",
              "      <td>1900</td>\n",
              "      <td>0.036800</td>\n",
              "      <td>0.095298</td>\n",
              "      <td>0.973131</td>\n",
              "    </tr>\n",
              "    <tr>\n",
              "      <td>2000</td>\n",
              "      <td>0.011300</td>\n",
              "      <td>0.095667</td>\n",
              "      <td>0.976051</td>\n",
              "    </tr>\n",
              "    <tr>\n",
              "      <td>2100</td>\n",
              "      <td>0.009300</td>\n",
              "      <td>0.130683</td>\n",
              "      <td>0.965537</td>\n",
              "    </tr>\n",
              "    <tr>\n",
              "      <td>2200</td>\n",
              "      <td>0.009100</td>\n",
              "      <td>0.168609</td>\n",
              "      <td>0.964953</td>\n",
              "    </tr>\n",
              "    <tr>\n",
              "      <td>2300</td>\n",
              "      <td>0.002800</td>\n",
              "      <td>0.087082</td>\n",
              "      <td>0.977804</td>\n",
              "    </tr>\n",
              "    <tr>\n",
              "      <td>2400</td>\n",
              "      <td>0.001100</td>\n",
              "      <td>0.091460</td>\n",
              "      <td>0.978972</td>\n",
              "    </tr>\n",
              "    <tr>\n",
              "      <td>2500</td>\n",
              "      <td>0.003900</td>\n",
              "      <td>0.167187</td>\n",
              "      <td>0.969626</td>\n",
              "    </tr>\n",
              "    <tr>\n",
              "      <td>2600</td>\n",
              "      <td>0.003300</td>\n",
              "      <td>0.107956</td>\n",
              "      <td>0.973715</td>\n",
              "    </tr>\n",
              "    <tr>\n",
              "      <td>2700</td>\n",
              "      <td>0.000700</td>\n",
              "      <td>0.098611</td>\n",
              "      <td>0.974299</td>\n",
              "    </tr>\n",
              "    <tr>\n",
              "      <td>2800</td>\n",
              "      <td>0.000200</td>\n",
              "      <td>0.126442</td>\n",
              "      <td>0.974883</td>\n",
              "    </tr>\n",
              "    <tr>\n",
              "      <td>2900</td>\n",
              "      <td>0.000600</td>\n",
              "      <td>0.120968</td>\n",
              "      <td>0.976636</td>\n",
              "    </tr>\n",
              "    <tr>\n",
              "      <td>3000</td>\n",
              "      <td>0.001900</td>\n",
              "      <td>0.101476</td>\n",
              "      <td>0.974883</td>\n",
              "    </tr>\n",
              "    <tr>\n",
              "      <td>3100</td>\n",
              "      <td>0.000100</td>\n",
              "      <td>0.104846</td>\n",
              "      <td>0.974299</td>\n",
              "    </tr>\n",
              "    <tr>\n",
              "      <td>3200</td>\n",
              "      <td>0.000100</td>\n",
              "      <td>0.103443</td>\n",
              "      <td>0.973715</td>\n",
              "    </tr>\n",
              "    <tr>\n",
              "      <td>3300</td>\n",
              "      <td>0.000100</td>\n",
              "      <td>0.105231</td>\n",
              "      <td>0.974883</td>\n",
              "    </tr>\n",
              "    <tr>\n",
              "      <td>3400</td>\n",
              "      <td>0.000100</td>\n",
              "      <td>0.117935</td>\n",
              "      <td>0.973715</td>\n",
              "    </tr>\n",
              "    <tr>\n",
              "      <td>3500</td>\n",
              "      <td>0.000100</td>\n",
              "      <td>0.115087</td>\n",
              "      <td>0.973715</td>\n",
              "    </tr>\n",
              "    <tr>\n",
              "      <td>3600</td>\n",
              "      <td>0.000100</td>\n",
              "      <td>0.112965</td>\n",
              "      <td>0.973131</td>\n",
              "    </tr>\n",
              "    <tr>\n",
              "      <td>3700</td>\n",
              "      <td>0.000100</td>\n",
              "      <td>0.112476</td>\n",
              "      <td>0.973715</td>\n",
              "    </tr>\n",
              "  </tbody>\n",
              "</table><p>"
            ],
            "text/plain": [
              "<IPython.core.display.HTML object>"
            ]
          },
          "metadata": {},
          "output_type": "display_data"
        },
        {
          "data": {
            "text/plain": [
              "TrainOutput(global_step=3740, training_loss=0.0664057518572193, metrics={'train_runtime': 1824.5656, 'train_samples_per_second': 65.544, 'train_steps_per_second': 2.05, 'total_flos': 9.267765395508265e+18, 'train_loss': 0.0664057518572193, 'epoch': 10.0})"
            ]
          },
          "execution_count": 69,
          "metadata": {},
          "output_type": "execute_result"
        }
      ],
      "source": [
        "trainer.train()"
      ]
    }
  ],
  "metadata": {
    "accelerator": "GPU",
    "colab": {
      "collapsed_sections": [
        "NUx_TqO-8Tx6"
      ],
      "gpuType": "T4",
      "provenance": []
    },
    "kernelspec": {
      "display_name": ".venv",
      "language": "python",
      "name": "python3"
    },
    "language_info": {
      "codemirror_mode": {
        "name": "ipython",
        "version": 3
      },
      "file_extension": ".py",
      "mimetype": "text/x-python",
      "name": "python",
      "nbconvert_exporter": "python",
      "pygments_lexer": "ipython3",
      "version": "3.13.2"
    }
  },
  "nbformat": 4,
  "nbformat_minor": 0
}
